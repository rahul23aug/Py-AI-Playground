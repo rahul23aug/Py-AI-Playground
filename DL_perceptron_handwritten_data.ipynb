{
  "nbformat": 4,
  "nbformat_minor": 0,
  "metadata": {
    "colab": {
      "name": "DL_NN.ipynb",
      "provenance": [],
      "collapsed_sections": []
    },
    "kernelspec": {
      "name": "python3",
      "display_name": "Python 3"
    }
  },
  "cells": [
    {
      "cell_type": "markdown",
      "metadata": {
        "id": "kD-2NdYHiZkH"
      },
      "source": [
        "It's Play ground time!! \n",
        "\n",
        "We will be predicting **hand written digits using MNIST DATA**"
      ]
    },
    {
      "cell_type": "code",
      "metadata": {
        "id": "8JTuR813MaMd"
      },
      "source": [
        "import numpy as np,pandas as pd\n",
        "from sklearn.linear_model import Perceptron\n",
        "from sklearn.model_selection import train_test_split\n",
        "import matplotlib.pyplot as plt"
      ],
      "execution_count": null,
      "outputs": []
    },
    {
      "cell_type": "markdown",
      "metadata": {
        "id": "RjQRP9DmilfI"
      },
      "source": [
        "Import the dataset"
      ]
    },
    {
      "cell_type": "code",
      "metadata": {
        "id": "Ow_y6f22TbFr"
      },
      "source": [
        "from sklearn.datasets import fetch_openml\n",
        "df = fetch_openml('mnist_784', cache=False)"
      ],
      "execution_count": null,
      "outputs": []
    },
    {
      "cell_type": "markdown",
      "metadata": {
        "id": "-Jgz6hDciofm"
      },
      "source": [
        "Just some grooming stuff"
      ]
    },
    {
      "cell_type": "code",
      "metadata": {
        "id": "Xem7sDIDaXMD"
      },
      "source": [
        "X = df.data.astype('float32')\n",
        "Y = df.target.astype('int64')"
      ],
      "execution_count": null,
      "outputs": []
    },
    {
      "cell_type": "markdown",
      "metadata": {
        "id": "cxfwexptirJ3"
      },
      "source": [
        "Let's Split the data Hi-yah(karate chop aka train_test_split)!"
      ]
    },
    {
      "cell_type": "code",
      "metadata": {
        "id": "uzc9UE6ObK81"
      },
      "source": [
        "X_train,X_test,Y_train,Y_test = train_test_split(X,Y)"
      ],
      "execution_count": null,
      "outputs": []
    },
    {
      "cell_type": "markdown",
      "metadata": {
        "id": "kJN9Kuz6i8CQ"
      },
      "source": [
        "The thinker is invoked !"
      ]
    },
    {
      "cell_type": "code",
      "metadata": {
        "id": "QUrAZN3GbaV7"
      },
      "source": [
        "perceptron = Perceptron()\n",
        "perceptron.fit(X_train, Y_train)"
      ],
      "execution_count": null,
      "outputs": []
    },
    {
      "cell_type": "markdown",
      "metadata": {
        "id": "5_lb4ON3jR9c"
      },
      "source": [
        "Its trying to show off the skill learnt"
      ]
    },
    {
      "cell_type": "code",
      "metadata": {
        "id": "E0LuJwsVb5M3"
      },
      "source": [
        "Y_predict = perceptron.predict(X_test)"
      ],
      "execution_count": null,
      "outputs": []
    },
    {
      "cell_type": "code",
      "metadata": {
        "id": "IEmmmZgAc66m",
        "outputId": "ab516979-9cb3-4ada-a2f5-c02838fd5e13",
        "colab": {
          "base_uri": "https://localhost:8080/",
          "height": 34
        }
      },
      "source": [
        "# makeshift accuracy calculator\n",
        "correct = 0\n",
        "incorrect = 0\n",
        "for i in range( Y_predict.shape[0]):\n",
        "  if Y_predict[i] == Y_test[i]:\n",
        "    correct = correct + 1\n",
        "  else :\n",
        "    incorrect = incorrect + 1\n",
        "print(\"[i] Accuracy is: {:.2f}%\".format((correct/(correct + incorrect))*100))"
      ],
      "execution_count": null,
      "outputs": [
        {
          "output_type": "stream",
          "text": [
            "[i] Accuracy is: 85.82%\n"
          ],
          "name": "stdout"
        }
      ]
    },
    {
      "cell_type": "markdown",
      "metadata": {
        "id": "vfVLzzfwjvwc"
      },
      "source": [
        "Can't complain"
      ]
    },
    {
      "cell_type": "code",
      "metadata": {
        "id": "BbU5wpPegOqb",
        "outputId": "c92bdaf2-b772-4df6-fdd7-ac03110bf433",
        "colab": {
          "base_uri": "https://localhost:8080/",
          "height": 281
        }
      },
      "source": [
        "plt.imshow(X_test[0].reshape(28,28))\n",
        "plt.title(\"Predicted: \" + str(Y_predict[0]))\n",
        "plt.show()"
      ],
      "execution_count": 54,
      "outputs": [
        {
          "output_type": "display_data",
          "data": {
            "image/png": "[encoded data removed]",
            "text/plain": [
              "<Figure size 432x288 with 1 Axes>"
            ]
          },
          "metadata": {
            "tags": [],
            "needs_background": "light"
          }
        }
      ]
    },
    {
      "cell_type": "code",
      "metadata": {
        "id": "TuIb6MRwhnnH",
        "outputId": "67296d54-b794-4894-f347-3f8c86bf01ae",
        "colab": {
          "base_uri": "https://localhost:8080/",
          "height": 281
        }
      },
      "source": [
        "plt.imshow(X_test[200].reshape(28,28))\n",
        "plt.title(\"Predicted: \" + str(Y_predict[200]))\n",
        "plt.show()"
      ],
      "execution_count": 58,
      "outputs": [
        {
          "output_type": "display_data",
          "data": {
            "image/png": "[encoded data removed]",
            "text/plain": [
              "<Figure size 432x288 with 1 Axes>"
            ]
          },
          "metadata": {
            "tags": [],
            "needs_background": "light"
          }
        }
      ]
    },
    {
      "cell_type": "code",
      "metadata": {
        "id": "4KrbXT46h3x3",
        "outputId": "28ab46de-17a5-43bc-840e-9770288e72bb",
        "colab": {
          "base_uri": "https://localhost:8080/",
          "height": 281
        }
      },
      "source": [
        "plt.imshow(X_test[5000].reshape(28,28))\n",
        "plt.title(\"Predicted: \" + str(Y_predict[5000]))\n",
        "plt.show()"
      ],
      "execution_count": 57,
      "outputs": [
        {
          "output_type": "display_data",
          "data": {
            "image/png": "[encoded data removed]",
            "text/plain": [
              "<Figure size 432x288 with 1 Axes>"
            ]
          },
          "metadata": {
            "tags": [],
            "needs_background": "light"
          }
        }
      ]
    },
    {
      "cell_type": "code",
      "metadata": {
        "id": "WsTdZQnUkqES",
        "outputId": "2b59f114-abea-4fea-ca86-74f10108e128",
        "colab": {
          "base_uri": "https://localhost:8080/",
          "height": 281
        }
      },
      "source": [
        "plt.imshow(X_test[3010].reshape(28,28))\n",
        "plt.title(\"Predicted: \" + str(Y_predict[3010]))\n",
        "plt.show()"
      ],
      "execution_count": 55,
      "outputs": [
        {
          "output_type": "display_data",
          "data": {
            "image/png": "[encoded data removed]",
            "text/plain": [
              "<Figure size 432x288 with 1 Axes>"
            ]
          },
          "metadata": {
            "tags": [],
            "needs_background": "light"
          }
        }
      ]
    },
    {
      "cell_type": "markdown",
      "metadata": {
        "id": "FVlGHoAplRa9"
      },
      "source": [
        "Aha! Here's one example predicted wrongly. \n",
        "\n",
        "still its not bad though..."
      ]
    },
    {
      "cell_type": "code",
      "metadata": {
        "id": "5QleriLMlFhv",
        "outputId": "4745f6cb-1cec-415a-fb42-dec5f77a90f2",
        "colab": {
          "base_uri": "https://localhost:8080/",
          "height": 281
        }
      },
      "source": [
        "plt.imshow(X_test[3279].reshape(28,28))\n",
        "plt.title(\"Predicted: \" + str(Y_predict[3279]))\n",
        "plt.show()"
      ],
      "execution_count": 56,
      "outputs": [
        {
          "output_type": "display_data",
          "data": {
            "image/png": "[encoded data removed]",
            "text/plain": [
              "<Figure size 432x288 with 1 Axes>"
            ]
          },
          "metadata": {
            "tags": [],
            "needs_background": "light"
          }
        }
      ]
    }
  ]
}